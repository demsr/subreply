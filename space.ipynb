{
 "cells": [
  {
   "cell_type": "code",
   "execution_count": null,
   "metadata": {},
   "outputs": [],
   "source": [
    "from app.filters import shortdate\n",
    "from datetime import datetime\n",
    "shortdate(123123), datetime.now().year"
   ]
  },
  {
   "cell_type": "code",
   "execution_count": null,
   "metadata": {
    "tags": []
   },
   "outputs": [],
   "source": [
    "from num2words import num2words\n",
    "t = 'cardinal'\n",
    "num2words(30, to=t) + ' / ' + num2words(60, to=t) + ' / ' + num2words(90, to=t)"
   ]
  },
  {
   "cell_type": "code",
   "execution_count": null,
   "metadata": {
    "tags": [
     "outputPrepend"
    ]
   },
   "outputs": [],
   "source": [
    "import json\n",
    "items = json.load(open('db_clean.json'))\n",
    "count = 0\n",
    "total = 0\n",
    "for item in items:\n",
    "    if item['model'] == 'app.comment':\n",
    "        if item['fields']['length'] > 480:\n",
    "            print(item['fields']['content'][:40])\n",
    "            print('---', item['fields']['created_by'])\n",
    "            count += 1\n",
    "            total += item['fields']['length']\n",
    "print(count, total/count)"
   ]
  },
  {
   "cell_type": "code",
   "execution_count": null,
   "metadata": {
    "tags": [
     "outputPrepend"
    ]
   },
   "outputs": [],
   "source": [
    "import json\n",
    "items = json.load(open('db_clean.json'))\n",
    "count = 0\n",
    "for item in items:\n",
    "    if item['model'] == 'app.comment':\n",
    "        if item['fields']['length'] > 480:\n",
    "            print(item['fields']['content'])\n",
    "            print('---', item['fields']['created_by'])\n",
    "            count += 1\n",
    "print(count)"
   ]
  },
  {
   "cell_type": "code",
   "execution_count": null,
   "metadata": {},
   "outputs": [],
   "source": []
  }
 ],
 "metadata": {
  "language_info": {
   "name": "python",
   "codemirror_mode": {
    "name": "ipython",
    "version": 3
   },
   "version": "3.7.7-final"
  },
  "orig_nbformat": 2,
  "file_extension": ".py",
  "mimetype": "text/x-python",
  "name": "python",
  "npconvert_exporter": "python",
  "pygments_lexer": "ipython3",
  "version": 3,
  "kernelspec": {
   "name": "python_defaultSpec_1595179386891",
   "display_name": "Python 3.7.7 64-bit"
  }
 },
 "nbformat": 4,
 "nbformat_minor": 2
}