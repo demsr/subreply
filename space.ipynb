{
 "cells": [
  {
   "cell_type": "code",
   "execution_count": 8,
   "metadata": {},
   "outputs": [],
   "source": [
    "import csv\n",
    "import json\n",
    "from collections import defaultdict\n",
    "\n",
    "world = defaultdict(list)\n",
    "\n",
    "with open('topcities.csv') as file:\n",
    "    reader = csv.reader(file)\n",
    "    for country, city in reader:\n",
    "        world[country].append(city)\n",
    "\n",
    "for country, cities in world.items():\n",
    "    world[country] = sorted(cities)\n",
    "\n",
    "with open('cities.json', 'w') as file:\n",
    "    json.dump(world, file, sort_keys=True, indent=4)"
   ]
  },
  {
   "cell_type": "code",
   "execution_count": 9,
   "metadata": {},
   "outputs": [
    {
     "output_type": "stream",
     "name": "stdout",
     "text": [
      "57\n"
     ]
    }
   ],
   "source": [
    "import json\n",
    "count = 0\n",
    "with open('static/cities.json') as file:\n",
    "    world = json.load(file)\n",
    "    for country in world.keys():\n",
    "        for city in world[country]:\n",
    "            location = f\"{city}, {country}\"\n",
    "            count = len(location) if len(location) > count else count\n",
    "print(count)"
   ]
  },
  {
   "cell_type": "code",
   "execution_count": null,
   "metadata": {},
   "outputs": [],
   "source": [
    "from app.filters import shortdate\n",
    "from datetime import datetime\n",
    "shortdate(123123), datetime.now().year"
   ]
  },
  {
   "cell_type": "code",
   "execution_count": null,
   "metadata": {
    "tags": []
   },
   "outputs": [],
   "source": [
    "from num2words import num2words\n",
    "t = 'cardinal'\n",
    "num2words(30, to=t) + ' / ' + num2words(60, to=t) + ' / ' + num2words(90, to=t)"
   ]
  },
  {
   "cell_type": "code",
   "execution_count": null,
   "metadata": {
    "tags": [
     "outputPrepend"
    ]
   },
   "outputs": [],
   "source": [
    "import json\n",
    "items = json.load(open('db_clean.json'))\n",
    "count = 0\n",
    "total = 0\n",
    "for item in items:\n",
    "    if item['model'] == 'app.comment':\n",
    "        if item['fields']['length'] > 480:\n",
    "            print(item['fields']['content'][:40])\n",
    "            print('---', item['fields']['created_by'])\n",
    "            count += 1\n",
    "            total += item['fields']['length']\n",
    "print(count, total/count)"
   ]
  },
  {
   "cell_type": "code",
   "execution_count": null,
   "metadata": {
    "tags": [
     "outputPrepend"
    ]
   },
   "outputs": [],
   "source": [
    "import json\n",
    "items = json.load(open('db_clean.json'))\n",
    "count = 0\n",
    "for item in items:\n",
    "    if item['model'] == 'app.comment':\n",
    "        if item['fields']['length'] > 480:\n",
    "            print(item['fields']['content'])\n",
    "            print('---', item['fields']['created_by'])\n",
    "            count += 1\n",
    "print(count)"
   ]
  },
  {
   "cell_type": "code",
   "execution_count": null,
   "metadata": {},
   "outputs": [],
   "source": []
  }
 ],
 "metadata": {
  "language_info": {
   "name": "python",
   "codemirror_mode": {
    "name": "ipython",
    "version": 3
   },
   "version": "3.9.0-final"
  },
  "orig_nbformat": 2,
  "file_extension": ".py",
  "mimetype": "text/x-python",
  "name": "python",
  "npconvert_exporter": "python",
  "pygments_lexer": "ipython3",
  "version": 3,
  "kernelspec": {
   "name": "python3",
   "display_name": "Python 3.9.0 64-bit",
   "metadata": {
    "interpreter": {
     "hash": "aee8b7b246df8f9039afb4144a1f6fd8d2ca17a180786b69acc140d282b71a49"
    }
   }
  }
 },
 "nbformat": 4,
 "nbformat_minor": 2
}